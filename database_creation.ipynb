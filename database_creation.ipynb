{
 "cells": [
  {
   "cell_type": "code",
   "execution_count": 23,
   "metadata": {},
   "outputs": [],
   "source": [
    "import mysql.connector as connector\n",
    "#creating class for connection to db\n",
    "class DBHelper:\n",
    "    def __init__(self):\n",
    "        self.mydb=connector.connect(host=\"localhost\",\n",
    "                                    user=\"root\",\n",
    "                                    password=\"Enter Your Password\",\n",
    "                                    database=\"Databasename\")\n",
    "        self.mycursor=self.mydb.cursor()\n",
    "            \n",
    "    #table create\n",
    "    def create_table(self):\n",
    "        self.mycursor.execute(\"DROP TABLE IF EXISTS EMPLOYEE\")\n",
    "        query ='''CREATE TABLE IF NOT EXISTS EMPLOYEE(\n",
    "                emp_no  INT,\n",
    "                FIRST_NAME CHAR(20) NOT NULL,\n",
    "                LAST_NAME CHAR(20),\n",
    "                AGE INT,\n",
    "                SEX ENUM ('M','F')  NOT NULL,\n",
    "                INCOME FLOAT,\n",
    "                PRIMARY KEY (emp_no))'''\n",
    "        self.mycursor.execute(query)\n",
    "        print(\"Table created\")\n",
    "    \n",
    "    #insert data into table\n",
    "    def insert_data(self,value):\n",
    "        query=\"INSERT INTO EMPLOYEE (emp_no,FIRST_NAME,LAST_NAME,AGE,SEX,INCOME) VALUES (%s,%s,%s,%s,%s,%s)\"\n",
    "        self.mycursor.executemany(query,value)\n",
    "        self.mydb.commit()  #commit is done on\n",
    "        print(\"user saved to db\")\n"
   ]
  },
  {
   "cell_type": "code",
   "execution_count": 24,
   "metadata": {},
   "outputs": [
    {
     "name": "stdout",
     "output_type": "stream",
     "text": [
      "Table created\n",
      "user saved to db\n"
     ]
    }
   ],
   "source": [
    "#creation of database \n",
    "TableObject=DBHelper()\n",
    "TableObject.create_table() # create table\n",
    "data=[(10001,'Georgi','Facello',34,'M',40000),\n",
    "(10002,'Bezalel','Simmel',33,'F',3447500),\n",
    "(10003,'Parto','Bamford',23,'M',37500),\n",
    "(10004,'Chirstian','Koblick',33,'M',1137500),\n",
    "(10005,'Kyoichi','Maliniak',40,'M',137500),\n",
    "(10006,'Anneke','Preusig',45,'F',357500),\n",
    "(10007,'Tzvetan','Zielinski',22,'F',3787500),\n",
    "(10008,'Saniya','Kalloufi',33,'M',374500),\n",
    "(10009,'Sumant','Peac',25,'F',30500),\n",
    "(10010,'Duangkaew','Piveteau',33,'F',437500),\n",
    "(10011,'Mary','Sluis',34,'F',36500),\n",
    "(10012,'Patricio','Bridgland',44,'M',137500),\n",
    "(10013,'Eberhardt','Terkki',45,'M',3758900),\n",
    "(10014,'Berni','Genin',47,'M',3337500),\n",
    "(10015,'Guoxiang','Nooteboom',47,'M',9037500),\n",
    "(10016,'Kazuhito','Cappelletti',54,'M',1237500),\n",
    "(10017,'Cristinel','Bouloucos',59,'F',434500),\n",
    "(10018,'Kazuhide','Peha',31,'F',49500),\n",
    "(10019,'Lillian','Haddadi',32,'M',37500),\n",
    "(10020,'Mayuko','Warwick',33,'M',37599),\n",
    "(10021,'Ramzi','Erde',44,'M',327500),\n",
    "(10022,'Shahaf','Famili',42,'M',837200),\n",
    "(10023,'Bojan','Montemayor',35,'F',37510),\n",
    "(10024,'Suzette','Pettey',46,'F',87500),\n",
    "(10025,'Prasadram','Heyers',47,'M',37500),\n",
    "(10026,'Yongqiao','Berztiss',48,'M',563032),\n",
    "(10027,'Divier','Reistad',49,'F',584299),\n",
    "(10028,'Domenick','Tempesti',28,'M',6033098),\n",
    "(10029,'Otmar','Herbst',29,'M',5449755),\n",
    "(10030,'Elvis','Demeyer',24,'M',1700551),\n",
    "(10031,'Karsten','Joslin',36,'M',5560740),\n",
    "(10032,'Jeong','Reistad',48,'F',6277745),\n",
    "(10033,'Arif','Merlo',22,'M',63475),\n",
    "(10034,'Bader','Swan',28,'M',6366208),\n",
    "(10035,'Alain','Chappelet',48,'M',646563),\n",
    "(10036,'Adamantios','Portugali',31,'M',6855833),\n",
    "(10037,'Pradeep','Makrucki',31,'M',70220),\n",
    "(10038,'Huan','Lortz',31,'M',73362),\n",
    "(10039,'Alejandro','Brender',32,'M',75582),\n",
    "(10040,'Weiyi','Meriste',42,'F',79513),\n",
    "(10041,'Uri','Lenart',48,'F',80083),\n",
    "(10042,'Magy','Stamatiou',42,'F',84456),\n",
    "(10043,'Yishay','Tzvieli',42,'M',88070),\n",
    "(10044,'Mingsen','Casley',55,'F',46671),\n",
    "(10045,'Moss','Shanbhogue',66,'M',4853384),\n",
    "(10046,'Lucien','Rosenbaum',42,'M',52668),\n",
    "(10047,'Zvonko','Nyanchama',33,'M',60929),\n",
    "(10048,'Florian','Syrotiuk',36,'M',64604),\n",
    "(10049,'Basil','Tramer',46,'F',64780),\n",
    "(10050,'Yinghua','Dredge',36,'M',66302),\n",
    "(10051,'Hidefumi','Caine',42,'M',6339042),\n",
    "(10052,'Heping','Nitsch',34,'M',4470889),\n",
    "(10053,'Sanjiv','Zschoche',42,'F',4471434),\n",
    "(10054,'Mayumi','Schueller',36,'M',7554612),\n",
    "(10055,'Georgy','Dredge',36,'M',765018),\n",
    "(10056,'Brendon','Bernini',33,'F',78335),\n",
    "(10057,'Ebbe','Callaway',36,'F',580944),\n",
    "(10058,'Berhard','McFarlin',25,'M',82507),\n",
    "(10059,'Alejandro','McAlpine',20,'F',85875),\n",
    "(10060,'Breannda','Billingsley',26,'M',89324),\n",
    "(10061,'Tse','Herber',36,'M',90668),\n",
    "(10062,'Anoosh','Peyn',31,'M',93507),\n",
    "(10063,'Gino','Leonhardt',31,'F',9444443),\n",
    "(10064,'Udi','Jansch',36,'M',94409),\n",
    "(10065,'Satosi','Awdeh',31,'M',72488),\n",
    "(10066,'Kwee','Schusler',31,'M',74347),\n",
    "(10067,'Claudi','Stavenow',36,'M',75405)]\n",
    "TableObject.insert_data(data) #insert data"
   ]
  }
 ],
 "metadata": {
  "kernelspec": {
   "display_name": "Python 3",
   "language": "python",
   "name": "python3"
  },
  "language_info": {
   "codemirror_mode": {
    "name": "ipython",
    "version": 3
   },
   "file_extension": ".py",
   "mimetype": "text/x-python",
   "name": "python",
   "nbconvert_exporter": "python",
   "pygments_lexer": "ipython3",
   "version": "3.10.7"
  },
  "orig_nbformat": 4,
  "vscode": {
   "interpreter": {
    "hash": "4c981748f1165de55f4cbdb2973cec544559c077019b905c466906f4f69cc167"
   }
  }
 },
 "nbformat": 4,
 "nbformat_minor": 2
}
