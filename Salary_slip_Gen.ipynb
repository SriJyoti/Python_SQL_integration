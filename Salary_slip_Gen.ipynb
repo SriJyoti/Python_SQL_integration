{
 "cells": [
  {
   "cell_type": "code",
   "execution_count": 6,
   "metadata": {},
   "outputs": [],
   "source": [
    "import mysql.connector\n",
    "\n",
    "#Create Connection\n",
    "mydb = mysql.connector.connect(\n",
    "    host=\"localhost\",\n",
    "    user=\"root\",\n",
    "    password=\"Enter Your password here\",\n",
    "    database=\"DB name where employee table is present\")\n",
    "#create cursor to fire queries\n",
    "mycursor=mydb.cursor()"
   ]
  },
  {
   "cell_type": "code",
   "execution_count": 7,
   "metadata": {},
   "outputs": [],
   "source": [
    "#Function to fetch 10 EMPLOYEES at a time\n",
    "def fetchEmployee(rowno):\n",
    "    sql = f\"SELECT emp_no,FIRST_NAME,LAST_NAME,INCOME FROM EMPLOYEE LIMIT {rowno},10\"\n",
    "    mycursor.execute(sql)\n",
    "    return mycursor.fetchall() #fetchall() method, which fetches all rows from the last executed statement."
   ]
  },
  {
   "cell_type": "code",
   "execution_count": 8,
   "metadata": {},
   "outputs": [],
   "source": [
    "#code to calculate tax\n",
    "#function to single employee calculate tax\n",
    "def calculateTax(income):\n",
    "    if income<= 250000:\n",
    "        taxtemp=0\n",
    "    elif income <= 500000:\n",
    "        taxtemp=((income-250000)*5)/100   \n",
    "    elif income <= 750000:\n",
    "        taxtemp=((income-500000)*10)/100+12500   \n",
    "    elif income <= 1000000:\n",
    "        taxtemp=((income-750000)*15)/100+37500\n",
    "    elif income <= 1250000:\n",
    "        taxtemp=((income-1000000)*20)/100+75000\n",
    "    elif income <= 1500000:\n",
    "        taxtemp=((income-1250000)*25)/100+125000   \n",
    "    else:\n",
    "        taxtemp=((income-1500000)*30)/100+187500\n",
    "    return taxtemp              "
   ]
  },
  {
   "cell_type": "code",
   "execution_count": 9,
   "metadata": {},
   "outputs": [],
   "source": [
    "#function to write single employee in file\n",
    "def writeToFile(employee,tax):\n",
    "    mSal=employee[3]/12\n",
    "    mTax=tax/12\n",
    "    sheet= open (\"employeeTax.csv\",'a')\n",
    "    sheet.write(f\"{employee[0]}, {employee[1]}, {employee[2]}, {employee[3]}, {mSal},{tax}, {mTax}, {mSal-mTax}\\n\")\n",
    "    sheet.close()"
   ]
  },
  {
   "cell_type": "code",
   "execution_count": 10,
   "metadata": {},
   "outputs": [],
   "source": [
    "#Main Code to execute all functions\n",
    "i = 1\n",
    "while True:\n",
    "    rows=fetchEmployee(i)\n",
    "    if not len(rows):  # break the loop when no more rows\n",
    "        break\n",
    "\n",
    "    for row in rows:\n",
    "        tax=calculateTax(row[3])   \n",
    "        writeToFile(row,tax)\n",
    "\n",
    "    i +=10\n",
    "    \n"
   ]
  },
  {
   "cell_type": "code",
   "execution_count": 28,
   "metadata": {},
   "outputs": [],
   "source": []
  }
 ],
 "metadata": {
  "kernelspec": {
   "display_name": "Python 3",
   "language": "python",
   "name": "python3"
  },
  "language_info": {
   "codemirror_mode": {
    "name": "ipython",
    "version": 3
   },
   "file_extension": ".py",
   "mimetype": "text/x-python",
   "name": "python",
   "nbconvert_exporter": "python",
   "pygments_lexer": "ipython3",
   "version": "3.10.7 (tags/v3.10.7:6cc6b13, Sep  5 2022, 14:08:36) [MSC v.1933 64 bit (AMD64)]"
  },
  "orig_nbformat": 4,
  "vscode": {
   "interpreter": {
    "hash": "4c981748f1165de55f4cbdb2973cec544559c077019b905c466906f4f69cc167"
   }
  }
 },
 "nbformat": 4,
 "nbformat_minor": 2
}
