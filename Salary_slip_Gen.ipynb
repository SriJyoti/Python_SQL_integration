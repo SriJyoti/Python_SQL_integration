{
 "cells": [
  {
   "cell_type": "code",
   "execution_count": 24,
   "metadata": {},
   "outputs": [],
   "source": [
    "import mysql.connector\n",
    "import pandas as pd\n",
    "\n",
    "#Create Connection\n",
    "mydb = mysql.connector.connect(\n",
    "    host=\"localhost\",\n",
    "    user=\"root\",\n",
    "    password=\"Enter Your Password\",\n",
    "    database=\"databasename\")\n",
    "#create cursor to fire queries\n",
    "mycursor=mydb.cursor()"
   ]
  },
  {
   "cell_type": "code",
   "execution_count": 12,
   "metadata": {},
   "outputs": [
    {
     "name": "stdout",
     "output_type": "stream",
     "text": [
      "Facello\n"
     ]
    }
   ],
   "source": [
    "#fetch data from employee table and saving it into a list called \"sourcedata\"\n",
    "mycursor.execute(\"SELECT emp_no,FIRST_NAME,LAST_NAME,INCOME FROM EMPLOYEE\")\n",
    "\n",
    "myresult = mycursor.fetchall() #fetchall() method, which fetches all rows from the last executed statement.\n",
    "sourcedata=[]\n",
    "for x in myresult:\n",
    "     sourcedata.append(x)\n"
   ]
  },
  {
   "cell_type": "code",
   "execution_count": 14,
   "metadata": {},
   "outputs": [
    {
     "name": "stdout",
     "output_type": "stream",
     "text": [
      "0\n"
     ]
    }
   ],
   "source": [
    "#code to calculate tax\n",
    "tax=[]\n",
    "for i in range(len(sourcedata)):\n",
    "    if sourcedata[i][3]<= 250000:\n",
    "        tax.append(0)       #sourcedata[i].append(0)\n",
    "\n",
    "    elif sourcedata[i][3] <= 500000:\n",
    "        taxtemp=((sourcedata[i][3]-250000)*5)/100\n",
    "        tax.append(taxtemp) \n",
    "\n",
    "    elif sourcedata[i][3] <= 750000:\n",
    "        taxtemp=((sourcedata[i][3]-500000)*10)/100+12500\n",
    "        tax.append(taxtemp) \n",
    "        \n",
    "    elif sourcedata[i][3] <= 1000000:\n",
    "        taxtemp=((sourcedata[i][3]-750000)*15)/100+37500\n",
    "        tax.append(taxtemp) \n",
    "        \n",
    "    elif sourcedata[i][3] <= 1250000:\n",
    "        taxtemp=((sourcedata[i][3]-1000000)*20)/100+75000\n",
    "        tax.append(taxtemp) \n",
    "        \n",
    "    elif sourcedata[i][3] <= 1500000:\n",
    "        taxtemp=((sourcedata[i][3]-1250000)*25)/100+125000\n",
    "        tax.append(taxtemp) \n",
    "       \n",
    "    else:\n",
    "        taxtemp=((sourcedata[i][3]-1500000)*30)/100+187500\n",
    "        tax.append(taxtemp) \n",
    "         "
   ]
  },
  {
   "cell_type": "code",
   "execution_count": null,
   "metadata": {},
   "outputs": [],
   "source": [
    "#Merge calculated tax list with source data\n",
    "manipulatedata=[]\n",
    "for i in range(len(sourcedata)):\n",
    "    for y in range(4):\n",
    "        manipulatedata.append(sourcedata[i][y])\n",
    "    \n",
    "    manipulatedata.append(sourcedata[i][3]/12)\n",
    "    manipulatedata.append(tax[i])\n",
    "    manipulatedata.append(tax[i]/12)\n",
    "    manipulatedata.append((sourcedata[i][3]-tax[i])/12)\n",
    "\n",
    "print(manipulatedata)\n"
   ]
  },
  {
   "cell_type": "code",
   "execution_count": 28,
   "metadata": {},
   "outputs": [],
   "source": [
    "#Split the list and insert in excel file\n",
    "df = pd.DataFrame()\n",
    "  \n",
    "# Creating two columns\n",
    "df['Emp_no'] = manipulatedata[0::8]\n",
    "df['First_name'] = manipulatedata[1::8]\n",
    "df['Last_name'] =manipulatedata[2::8]\n",
    "df[\"Annual Income\"]=manipulatedata[3::8]\n",
    "df[\"Monthly_Income\"]=manipulatedata[4::8]\n",
    "df[\"Tax\"]=manipulatedata[5::8]\n",
    "df[\"Monthly_Tax\"]=manipulatedata[6::8]\n",
    "df[\"Gross_Monthly_Income\"]=manipulatedata[7::8]\n",
    "  \n",
    "# Converting to excel\n",
    "df.to_excel('IncomeTaxCalculator.xlsx', index = False)"
   ]
  }
 ],
 "metadata": {
  "kernelspec": {
   "display_name": "Python 3",
   "language": "python",
   "name": "python3"
  },
  "language_info": {
   "codemirror_mode": {
    "name": "ipython",
    "version": 3
   },
   "file_extension": ".py",
   "mimetype": "text/x-python",
   "name": "python",
   "nbconvert_exporter": "python",
   "pygments_lexer": "ipython3",
   "version": "3.10.7 (tags/v3.10.7:6cc6b13, Sep  5 2022, 14:08:36) [MSC v.1933 64 bit (AMD64)]"
  },
  "orig_nbformat": 4,
  "vscode": {
   "interpreter": {
    "hash": "4c981748f1165de55f4cbdb2973cec544559c077019b905c466906f4f69cc167"
   }
  }
 },
 "nbformat": 4,
 "nbformat_minor": 2
}
